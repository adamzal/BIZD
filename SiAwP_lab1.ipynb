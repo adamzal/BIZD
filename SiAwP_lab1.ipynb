{
 "cells": [
  {
   "cell_type": "code",
   "execution_count": 42,
   "id": "9bcce70c",
   "metadata": {},
   "outputs": [],
   "source": [
    "import pandas as pd\n",
    "from statistics import *\n",
    "from scipy.stats import describe"
   ]
  },
  {
   "cell_type": "markdown",
   "id": "c7ee5b1b",
   "metadata": {},
   "source": [
    "# Zadanie 1"
   ]
  },
  {
   "cell_type": "code",
   "execution_count": 4,
   "id": "36a8e607",
   "metadata": {},
   "outputs": [],
   "source": [
    "df = pd.read_csv(\"MDR_RR_TB_burden_estimates_2023-11-28.csv\")"
   ]
  },
  {
   "cell_type": "code",
   "execution_count": 5,
   "id": "fc36b82b",
   "metadata": {},
   "outputs": [
    {
     "data": {
      "text/html": [
       "<div>\n",
       "<style scoped>\n",
       "    .dataframe tbody tr th:only-of-type {\n",
       "        vertical-align: middle;\n",
       "    }\n",
       "\n",
       "    .dataframe tbody tr th {\n",
       "        vertical-align: top;\n",
       "    }\n",
       "\n",
       "    .dataframe thead th {\n",
       "        text-align: right;\n",
       "    }\n",
       "</style>\n",
       "<table border=\"1\" class=\"dataframe\">\n",
       "  <thead>\n",
       "    <tr style=\"text-align: right;\">\n",
       "      <th></th>\n",
       "      <th>country</th>\n",
       "      <th>iso2</th>\n",
       "      <th>iso3</th>\n",
       "      <th>iso_numeric</th>\n",
       "      <th>g_whoregion</th>\n",
       "      <th>year</th>\n",
       "      <th>source_rr_new</th>\n",
       "      <th>e_rr_pct_new</th>\n",
       "      <th>e_rr_pct_new_lo</th>\n",
       "      <th>e_rr_pct_new_hi</th>\n",
       "      <th>source_rr_ret</th>\n",
       "      <th>e_rr_pct_ret</th>\n",
       "      <th>e_rr_pct_ret_lo</th>\n",
       "      <th>e_rr_pct_ret_hi</th>\n",
       "      <th>e_inc_rr_num</th>\n",
       "      <th>e_inc_rr_num_lo</th>\n",
       "      <th>e_inc_rr_num_hi</th>\n",
       "      <th>e_rr_in_notified_labconf_pulm</th>\n",
       "      <th>e_rr_in_notified_labconf_pulm_lo</th>\n",
       "      <th>e_rr_in_notified_labconf_pulm_hi</th>\n",
       "    </tr>\n",
       "  </thead>\n",
       "  <tbody>\n",
       "    <tr>\n",
       "      <th>0</th>\n",
       "      <td>Afghanistan</td>\n",
       "      <td>AF</td>\n",
       "      <td>AFG</td>\n",
       "      <td>4</td>\n",
       "      <td>EMR</td>\n",
       "      <td>2015</td>\n",
       "      <td>Model</td>\n",
       "      <td>4.8</td>\n",
       "      <td>0.42</td>\n",
       "      <td>19.0</td>\n",
       "      <td>Surveillance</td>\n",
       "      <td>6.0</td>\n",
       "      <td>4.1</td>\n",
       "      <td>8.3</td>\n",
       "      <td>3400</td>\n",
       "      <td>0</td>\n",
       "      <td>9800</td>\n",
       "      <td>800.0</td>\n",
       "      <td>70.0</td>\n",
       "      <td>3100.0</td>\n",
       "    </tr>\n",
       "    <tr>\n",
       "      <th>1</th>\n",
       "      <td>Afghanistan</td>\n",
       "      <td>AF</td>\n",
       "      <td>AFG</td>\n",
       "      <td>4</td>\n",
       "      <td>EMR</td>\n",
       "      <td>2016</td>\n",
       "      <td>Model</td>\n",
       "      <td>4.7</td>\n",
       "      <td>0.45</td>\n",
       "      <td>17.0</td>\n",
       "      <td>Surveillance</td>\n",
       "      <td>8.1</td>\n",
       "      <td>6.1</td>\n",
       "      <td>10.0</td>\n",
       "      <td>3400</td>\n",
       "      <td>0</td>\n",
       "      <td>9500</td>\n",
       "      <td>880.0</td>\n",
       "      <td>0.0</td>\n",
       "      <td>2400.0</td>\n",
       "    </tr>\n",
       "    <tr>\n",
       "      <th>2</th>\n",
       "      <td>Afghanistan</td>\n",
       "      <td>AF</td>\n",
       "      <td>AFG</td>\n",
       "      <td>4</td>\n",
       "      <td>EMR</td>\n",
       "      <td>2017</td>\n",
       "      <td>Model</td>\n",
       "      <td>4.6</td>\n",
       "      <td>0.48</td>\n",
       "      <td>17.0</td>\n",
       "      <td>Surveillance</td>\n",
       "      <td>11.0</td>\n",
       "      <td>9.0</td>\n",
       "      <td>13.0</td>\n",
       "      <td>3400</td>\n",
       "      <td>0</td>\n",
       "      <td>9500</td>\n",
       "      <td>1100.0</td>\n",
       "      <td>0.0</td>\n",
       "      <td>2700.0</td>\n",
       "    </tr>\n",
       "    <tr>\n",
       "      <th>3</th>\n",
       "      <td>Afghanistan</td>\n",
       "      <td>AF</td>\n",
       "      <td>AFG</td>\n",
       "      <td>4</td>\n",
       "      <td>EMR</td>\n",
       "      <td>2018</td>\n",
       "      <td>Model</td>\n",
       "      <td>4.5</td>\n",
       "      <td>0.51</td>\n",
       "      <td>17.0</td>\n",
       "      <td>Surveillance</td>\n",
       "      <td>14.0</td>\n",
       "      <td>13.0</td>\n",
       "      <td>16.0</td>\n",
       "      <td>3500</td>\n",
       "      <td>0</td>\n",
       "      <td>9800</td>\n",
       "      <td>1200.0</td>\n",
       "      <td>0.0</td>\n",
       "      <td>2900.0</td>\n",
       "    </tr>\n",
       "    <tr>\n",
       "      <th>4</th>\n",
       "      <td>Afghanistan</td>\n",
       "      <td>AF</td>\n",
       "      <td>AFG</td>\n",
       "      <td>4</td>\n",
       "      <td>EMR</td>\n",
       "      <td>2019</td>\n",
       "      <td>Model</td>\n",
       "      <td>4.4</td>\n",
       "      <td>0.53</td>\n",
       "      <td>17.0</td>\n",
       "      <td>Surveillance</td>\n",
       "      <td>19.0</td>\n",
       "      <td>17.0</td>\n",
       "      <td>20.0</td>\n",
       "      <td>3500</td>\n",
       "      <td>0</td>\n",
       "      <td>9900</td>\n",
       "      <td>1200.0</td>\n",
       "      <td>0.0</td>\n",
       "      <td>3200.0</td>\n",
       "    </tr>\n",
       "    <tr>\n",
       "      <th>...</th>\n",
       "      <td>...</td>\n",
       "      <td>...</td>\n",
       "      <td>...</td>\n",
       "      <td>...</td>\n",
       "      <td>...</td>\n",
       "      <td>...</td>\n",
       "      <td>...</td>\n",
       "      <td>...</td>\n",
       "      <td>...</td>\n",
       "      <td>...</td>\n",
       "      <td>...</td>\n",
       "      <td>...</td>\n",
       "      <td>...</td>\n",
       "      <td>...</td>\n",
       "      <td>...</td>\n",
       "      <td>...</td>\n",
       "      <td>...</td>\n",
       "      <td>...</td>\n",
       "      <td>...</td>\n",
       "      <td>...</td>\n",
       "    </tr>\n",
       "    <tr>\n",
       "      <th>1715</th>\n",
       "      <td>Zimbabwe</td>\n",
       "      <td>ZW</td>\n",
       "      <td>ZWE</td>\n",
       "      <td>716</td>\n",
       "      <td>AFR</td>\n",
       "      <td>2018</td>\n",
       "      <td>Survey &amp; Surveillance</td>\n",
       "      <td>3.5</td>\n",
       "      <td>3.20</td>\n",
       "      <td>3.8</td>\n",
       "      <td>Survey &amp; Surveillance</td>\n",
       "      <td>20.0</td>\n",
       "      <td>16.0</td>\n",
       "      <td>24.0</td>\n",
       "      <td>1400</td>\n",
       "      <td>970</td>\n",
       "      <td>1900</td>\n",
       "      <td>540.0</td>\n",
       "      <td>500.0</td>\n",
       "      <td>590.0</td>\n",
       "    </tr>\n",
       "    <tr>\n",
       "      <th>1716</th>\n",
       "      <td>Zimbabwe</td>\n",
       "      <td>ZW</td>\n",
       "      <td>ZWE</td>\n",
       "      <td>716</td>\n",
       "      <td>AFR</td>\n",
       "      <td>2019</td>\n",
       "      <td>Survey &amp; Surveillance</td>\n",
       "      <td>2.9</td>\n",
       "      <td>2.80</td>\n",
       "      <td>3.1</td>\n",
       "      <td>Survey &amp; Surveillance</td>\n",
       "      <td>20.0</td>\n",
       "      <td>17.0</td>\n",
       "      <td>23.0</td>\n",
       "      <td>1200</td>\n",
       "      <td>830</td>\n",
       "      <td>1500</td>\n",
       "      <td>430.0</td>\n",
       "      <td>400.0</td>\n",
       "      <td>460.0</td>\n",
       "    </tr>\n",
       "    <tr>\n",
       "      <th>1717</th>\n",
       "      <td>Zimbabwe</td>\n",
       "      <td>ZW</td>\n",
       "      <td>ZWE</td>\n",
       "      <td>716</td>\n",
       "      <td>AFR</td>\n",
       "      <td>2020</td>\n",
       "      <td>Survey &amp; Surveillance</td>\n",
       "      <td>2.5</td>\n",
       "      <td>2.30</td>\n",
       "      <td>2.6</td>\n",
       "      <td>Survey &amp; Surveillance</td>\n",
       "      <td>20.0</td>\n",
       "      <td>17.0</td>\n",
       "      <td>22.0</td>\n",
       "      <td>960</td>\n",
       "      <td>630</td>\n",
       "      <td>1300</td>\n",
       "      <td>290.0</td>\n",
       "      <td>270.0</td>\n",
       "      <td>310.0</td>\n",
       "    </tr>\n",
       "    <tr>\n",
       "      <th>1718</th>\n",
       "      <td>Zimbabwe</td>\n",
       "      <td>ZW</td>\n",
       "      <td>ZWE</td>\n",
       "      <td>716</td>\n",
       "      <td>AFR</td>\n",
       "      <td>2021</td>\n",
       "      <td>Survey &amp; Surveillance</td>\n",
       "      <td>2.1</td>\n",
       "      <td>1.90</td>\n",
       "      <td>2.3</td>\n",
       "      <td>Survey &amp; Surveillance</td>\n",
       "      <td>20.0</td>\n",
       "      <td>17.0</td>\n",
       "      <td>22.0</td>\n",
       "      <td>880</td>\n",
       "      <td>570</td>\n",
       "      <td>1200</td>\n",
       "      <td>250.0</td>\n",
       "      <td>240.0</td>\n",
       "      <td>270.0</td>\n",
       "    </tr>\n",
       "    <tr>\n",
       "      <th>1719</th>\n",
       "      <td>Zimbabwe</td>\n",
       "      <td>ZW</td>\n",
       "      <td>ZWE</td>\n",
       "      <td>716</td>\n",
       "      <td>AFR</td>\n",
       "      <td>2022</td>\n",
       "      <td>Survey &amp; Surveillance</td>\n",
       "      <td>1.7</td>\n",
       "      <td>1.50</td>\n",
       "      <td>2.0</td>\n",
       "      <td>Survey &amp; Surveillance</td>\n",
       "      <td>20.0</td>\n",
       "      <td>17.0</td>\n",
       "      <td>23.0</td>\n",
       "      <td>820</td>\n",
       "      <td>520</td>\n",
       "      <td>1100</td>\n",
       "      <td>250.0</td>\n",
       "      <td>230.0</td>\n",
       "      <td>280.0</td>\n",
       "    </tr>\n",
       "  </tbody>\n",
       "</table>\n",
       "<p>1720 rows × 20 columns</p>\n",
       "</div>"
      ],
      "text/plain": [
       "          country iso2 iso3  iso_numeric g_whoregion  year  \\\n",
       "0     Afghanistan   AF  AFG            4         EMR  2015   \n",
       "1     Afghanistan   AF  AFG            4         EMR  2016   \n",
       "2     Afghanistan   AF  AFG            4         EMR  2017   \n",
       "3     Afghanistan   AF  AFG            4         EMR  2018   \n",
       "4     Afghanistan   AF  AFG            4         EMR  2019   \n",
       "...           ...  ...  ...          ...         ...   ...   \n",
       "1715     Zimbabwe   ZW  ZWE          716         AFR  2018   \n",
       "1716     Zimbabwe   ZW  ZWE          716         AFR  2019   \n",
       "1717     Zimbabwe   ZW  ZWE          716         AFR  2020   \n",
       "1718     Zimbabwe   ZW  ZWE          716         AFR  2021   \n",
       "1719     Zimbabwe   ZW  ZWE          716         AFR  2022   \n",
       "\n",
       "              source_rr_new  e_rr_pct_new  e_rr_pct_new_lo  e_rr_pct_new_hi  \\\n",
       "0                     Model           4.8             0.42             19.0   \n",
       "1                     Model           4.7             0.45             17.0   \n",
       "2                     Model           4.6             0.48             17.0   \n",
       "3                     Model           4.5             0.51             17.0   \n",
       "4                     Model           4.4             0.53             17.0   \n",
       "...                     ...           ...              ...              ...   \n",
       "1715  Survey & Surveillance           3.5             3.20              3.8   \n",
       "1716  Survey & Surveillance           2.9             2.80              3.1   \n",
       "1717  Survey & Surveillance           2.5             2.30              2.6   \n",
       "1718  Survey & Surveillance           2.1             1.90              2.3   \n",
       "1719  Survey & Surveillance           1.7             1.50              2.0   \n",
       "\n",
       "              source_rr_ret  e_rr_pct_ret  e_rr_pct_ret_lo  e_rr_pct_ret_hi  \\\n",
       "0              Surveillance           6.0              4.1              8.3   \n",
       "1              Surveillance           8.1              6.1             10.0   \n",
       "2              Surveillance          11.0              9.0             13.0   \n",
       "3              Surveillance          14.0             13.0             16.0   \n",
       "4              Surveillance          19.0             17.0             20.0   \n",
       "...                     ...           ...              ...              ...   \n",
       "1715  Survey & Surveillance          20.0             16.0             24.0   \n",
       "1716  Survey & Surveillance          20.0             17.0             23.0   \n",
       "1717  Survey & Surveillance          20.0             17.0             22.0   \n",
       "1718  Survey & Surveillance          20.0             17.0             22.0   \n",
       "1719  Survey & Surveillance          20.0             17.0             23.0   \n",
       "\n",
       "      e_inc_rr_num  e_inc_rr_num_lo  e_inc_rr_num_hi  \\\n",
       "0             3400                0             9800   \n",
       "1             3400                0             9500   \n",
       "2             3400                0             9500   \n",
       "3             3500                0             9800   \n",
       "4             3500                0             9900   \n",
       "...            ...              ...              ...   \n",
       "1715          1400              970             1900   \n",
       "1716          1200              830             1500   \n",
       "1717           960              630             1300   \n",
       "1718           880              570             1200   \n",
       "1719           820              520             1100   \n",
       "\n",
       "      e_rr_in_notified_labconf_pulm  e_rr_in_notified_labconf_pulm_lo  \\\n",
       "0                             800.0                              70.0   \n",
       "1                             880.0                               0.0   \n",
       "2                            1100.0                               0.0   \n",
       "3                            1200.0                               0.0   \n",
       "4                            1200.0                               0.0   \n",
       "...                             ...                               ...   \n",
       "1715                          540.0                             500.0   \n",
       "1716                          430.0                             400.0   \n",
       "1717                          290.0                             270.0   \n",
       "1718                          250.0                             240.0   \n",
       "1719                          250.0                             230.0   \n",
       "\n",
       "      e_rr_in_notified_labconf_pulm_hi  \n",
       "0                               3100.0  \n",
       "1                               2400.0  \n",
       "2                               2700.0  \n",
       "3                               2900.0  \n",
       "4                               3200.0  \n",
       "...                                ...  \n",
       "1715                             590.0  \n",
       "1716                             460.0  \n",
       "1717                             310.0  \n",
       "1718                             270.0  \n",
       "1719                             280.0  \n",
       "\n",
       "[1720 rows x 20 columns]"
      ]
     },
     "execution_count": 5,
     "metadata": {},
     "output_type": "execute_result"
    }
   ],
   "source": [
    "df"
   ]
  },
  {
   "cell_type": "code",
   "execution_count": 6,
   "id": "254d6ff6",
   "metadata": {},
   "outputs": [
    {
     "data": {
      "text/html": [
       "<div>\n",
       "<style scoped>\n",
       "    .dataframe tbody tr th:only-of-type {\n",
       "        vertical-align: middle;\n",
       "    }\n",
       "\n",
       "    .dataframe tbody tr th {\n",
       "        vertical-align: top;\n",
       "    }\n",
       "\n",
       "    .dataframe thead th {\n",
       "        text-align: right;\n",
       "    }\n",
       "</style>\n",
       "<table border=\"1\" class=\"dataframe\">\n",
       "  <thead>\n",
       "    <tr style=\"text-align: right;\">\n",
       "      <th></th>\n",
       "      <th>iso_numeric</th>\n",
       "      <th>year</th>\n",
       "      <th>e_rr_pct_new</th>\n",
       "      <th>e_rr_pct_new_lo</th>\n",
       "      <th>e_rr_pct_new_hi</th>\n",
       "      <th>e_rr_pct_ret</th>\n",
       "      <th>e_rr_pct_ret_lo</th>\n",
       "      <th>e_rr_pct_ret_hi</th>\n",
       "      <th>e_inc_rr_num</th>\n",
       "      <th>e_inc_rr_num_lo</th>\n",
       "      <th>e_inc_rr_num_hi</th>\n",
       "      <th>e_rr_in_notified_labconf_pulm</th>\n",
       "      <th>e_rr_in_notified_labconf_pulm_lo</th>\n",
       "      <th>e_rr_in_notified_labconf_pulm_hi</th>\n",
       "    </tr>\n",
       "  </thead>\n",
       "  <tbody>\n",
       "    <tr>\n",
       "      <th>count</th>\n",
       "      <td>1720.000000</td>\n",
       "      <td>1720.000000</td>\n",
       "      <td>1720.000000</td>\n",
       "      <td>1720.000000</td>\n",
       "      <td>1720.000000</td>\n",
       "      <td>1720.000000</td>\n",
       "      <td>1720.000000</td>\n",
       "      <td>1720.000000</td>\n",
       "      <td>1720.000000</td>\n",
       "      <td>1720.000000</td>\n",
       "      <td>1720.000000</td>\n",
       "      <td>1671.000000</td>\n",
       "      <td>1671.000000</td>\n",
       "      <td>1671.000000</td>\n",
       "    </tr>\n",
       "    <tr>\n",
       "      <th>mean</th>\n",
       "      <td>433.200000</td>\n",
       "      <td>2018.500000</td>\n",
       "      <td>3.725372</td>\n",
       "      <td>2.670122</td>\n",
       "      <td>5.972331</td>\n",
       "      <td>17.135081</td>\n",
       "      <td>9.695064</td>\n",
       "      <td>32.208314</td>\n",
       "      <td>2146.234884</td>\n",
       "      <td>1319.488372</td>\n",
       "      <td>3002.373837</td>\n",
       "      <td>827.956912</td>\n",
       "      <td>728.868342</td>\n",
       "      <td>941.589467</td>\n",
       "    </tr>\n",
       "    <tr>\n",
       "      <th>std</th>\n",
       "      <td>252.706567</td>\n",
       "      <td>2.291954</td>\n",
       "      <td>5.751976</td>\n",
       "      <td>5.744386</td>\n",
       "      <td>6.282718</td>\n",
       "      <td>13.873184</td>\n",
       "      <td>13.957301</td>\n",
       "      <td>23.161549</td>\n",
       "      <td>10025.069033</td>\n",
       "      <td>7430.315663</td>\n",
       "      <td>12814.094160</td>\n",
       "      <td>3897.739022</td>\n",
       "      <td>3758.948945</td>\n",
       "      <td>4063.579477</td>\n",
       "    </tr>\n",
       "    <tr>\n",
       "      <th>min</th>\n",
       "      <td>4.000000</td>\n",
       "      <td>2015.000000</td>\n",
       "      <td>0.260000</td>\n",
       "      <td>0.090000</td>\n",
       "      <td>0.440000</td>\n",
       "      <td>0.730000</td>\n",
       "      <td>0.000000</td>\n",
       "      <td>2.400000</td>\n",
       "      <td>0.000000</td>\n",
       "      <td>0.000000</td>\n",
       "      <td>0.000000</td>\n",
       "      <td>0.000000</td>\n",
       "      <td>0.000000</td>\n",
       "      <td>0.000000</td>\n",
       "    </tr>\n",
       "    <tr>\n",
       "      <th>25%</th>\n",
       "      <td>212.000000</td>\n",
       "      <td>2016.750000</td>\n",
       "      <td>1.300000</td>\n",
       "      <td>0.340000</td>\n",
       "      <td>2.300000</td>\n",
       "      <td>8.075000</td>\n",
       "      <td>1.200000</td>\n",
       "      <td>13.000000</td>\n",
       "      <td>4.000000</td>\n",
       "      <td>0.000000</td>\n",
       "      <td>6.000000</td>\n",
       "      <td>2.000000</td>\n",
       "      <td>0.000000</td>\n",
       "      <td>3.000000</td>\n",
       "    </tr>\n",
       "    <tr>\n",
       "      <th>50%</th>\n",
       "      <td>434.000000</td>\n",
       "      <td>2018.500000</td>\n",
       "      <td>2.100000</td>\n",
       "      <td>0.920000</td>\n",
       "      <td>3.700000</td>\n",
       "      <td>14.000000</td>\n",
       "      <td>4.300000</td>\n",
       "      <td>25.000000</td>\n",
       "      <td>61.000000</td>\n",
       "      <td>13.000000</td>\n",
       "      <td>100.000000</td>\n",
       "      <td>32.000000</td>\n",
       "      <td>10.000000</td>\n",
       "      <td>45.000000</td>\n",
       "    </tr>\n",
       "    <tr>\n",
       "      <th>75%</th>\n",
       "      <td>646.000000</td>\n",
       "      <td>2020.250000</td>\n",
       "      <td>3.300000</td>\n",
       "      <td>2.100000</td>\n",
       "      <td>7.200000</td>\n",
       "      <td>21.000000</td>\n",
       "      <td>11.000000</td>\n",
       "      <td>49.000000</td>\n",
       "      <td>600.000000</td>\n",
       "      <td>220.000000</td>\n",
       "      <td>1200.000000</td>\n",
       "      <td>240.000000</td>\n",
       "      <td>130.000000</td>\n",
       "      <td>360.000000</td>\n",
       "    </tr>\n",
       "    <tr>\n",
       "      <th>max</th>\n",
       "      <td>894.000000</td>\n",
       "      <td>2022.000000</td>\n",
       "      <td>40.000000</td>\n",
       "      <td>38.000000</td>\n",
       "      <td>41.000000</td>\n",
       "      <td>100.000000</td>\n",
       "      <td>99.000000</td>\n",
       "      <td>100.000000</td>\n",
       "      <td>140000.000000</td>\n",
       "      <td>100000.000000</td>\n",
       "      <td>180000.000000</td>\n",
       "      <td>52000.000000</td>\n",
       "      <td>50000.000000</td>\n",
       "      <td>53000.000000</td>\n",
       "    </tr>\n",
       "  </tbody>\n",
       "</table>\n",
       "</div>"
      ],
      "text/plain": [
       "       iso_numeric         year  e_rr_pct_new  e_rr_pct_new_lo  \\\n",
       "count  1720.000000  1720.000000   1720.000000      1720.000000   \n",
       "mean    433.200000  2018.500000      3.725372         2.670122   \n",
       "std     252.706567     2.291954      5.751976         5.744386   \n",
       "min       4.000000  2015.000000      0.260000         0.090000   \n",
       "25%     212.000000  2016.750000      1.300000         0.340000   \n",
       "50%     434.000000  2018.500000      2.100000         0.920000   \n",
       "75%     646.000000  2020.250000      3.300000         2.100000   \n",
       "max     894.000000  2022.000000     40.000000        38.000000   \n",
       "\n",
       "       e_rr_pct_new_hi  e_rr_pct_ret  e_rr_pct_ret_lo  e_rr_pct_ret_hi  \\\n",
       "count      1720.000000   1720.000000      1720.000000      1720.000000   \n",
       "mean          5.972331     17.135081         9.695064        32.208314   \n",
       "std           6.282718     13.873184        13.957301        23.161549   \n",
       "min           0.440000      0.730000         0.000000         2.400000   \n",
       "25%           2.300000      8.075000         1.200000        13.000000   \n",
       "50%           3.700000     14.000000         4.300000        25.000000   \n",
       "75%           7.200000     21.000000        11.000000        49.000000   \n",
       "max          41.000000    100.000000        99.000000       100.000000   \n",
       "\n",
       "        e_inc_rr_num  e_inc_rr_num_lo  e_inc_rr_num_hi  \\\n",
       "count    1720.000000      1720.000000      1720.000000   \n",
       "mean     2146.234884      1319.488372      3002.373837   \n",
       "std     10025.069033      7430.315663     12814.094160   \n",
       "min         0.000000         0.000000         0.000000   \n",
       "25%         4.000000         0.000000         6.000000   \n",
       "50%        61.000000        13.000000       100.000000   \n",
       "75%       600.000000       220.000000      1200.000000   \n",
       "max    140000.000000    100000.000000    180000.000000   \n",
       "\n",
       "       e_rr_in_notified_labconf_pulm  e_rr_in_notified_labconf_pulm_lo  \\\n",
       "count                    1671.000000                       1671.000000   \n",
       "mean                      827.956912                        728.868342   \n",
       "std                      3897.739022                       3758.948945   \n",
       "min                         0.000000                          0.000000   \n",
       "25%                         2.000000                          0.000000   \n",
       "50%                        32.000000                         10.000000   \n",
       "75%                       240.000000                        130.000000   \n",
       "max                     52000.000000                      50000.000000   \n",
       "\n",
       "       e_rr_in_notified_labconf_pulm_hi  \n",
       "count                       1671.000000  \n",
       "mean                         941.589467  \n",
       "std                         4063.579477  \n",
       "min                            0.000000  \n",
       "25%                            3.000000  \n",
       "50%                           45.000000  \n",
       "75%                          360.000000  \n",
       "max                        53000.000000  "
      ]
     },
     "execution_count": 6,
     "metadata": {},
     "output_type": "execute_result"
    }
   ],
   "source": [
    "df.describe()"
   ]
  },
  {
   "cell_type": "markdown",
   "id": "2828f0fd",
   "metadata": {},
   "source": [
    "# Zadanie 2"
   ]
  },
  {
   "cell_type": "code",
   "execution_count": 12,
   "id": "550fa439",
   "metadata": {},
   "outputs": [],
   "source": [
    "wzrost_df = pd.read_csv(\"wzrost.csv\", header=None)"
   ]
  },
  {
   "cell_type": "code",
   "execution_count": 19,
   "id": "e38d52ec",
   "metadata": {},
   "outputs": [],
   "source": [
    "values = wzrost_df.values[0]"
   ]
  },
  {
   "cell_type": "code",
   "execution_count": 20,
   "id": "49e3145f",
   "metadata": {},
   "outputs": [
    {
     "data": {
      "text/plain": [
       "174"
      ]
     },
     "execution_count": 20,
     "metadata": {},
     "output_type": "execute_result"
    }
   ],
   "source": [
    "mean(values)"
   ]
  },
  {
   "cell_type": "code",
   "execution_count": 21,
   "id": "c5e6f3fb",
   "metadata": {},
   "outputs": [
    {
     "data": {
      "text/plain": [
       "174.16666666666666"
      ]
     },
     "execution_count": 21,
     "metadata": {},
     "output_type": "execute_result"
    }
   ],
   "source": [
    "fmean(values)"
   ]
  },
  {
   "cell_type": "code",
   "execution_count": 22,
   "id": "aaa0772b",
   "metadata": {},
   "outputs": [
    {
     "data": {
      "text/plain": [
       "173.44516512260225"
      ]
     },
     "execution_count": 22,
     "metadata": {},
     "output_type": "execute_result"
    }
   ],
   "source": [
    "geometric_mean(values)"
   ]
  },
  {
   "cell_type": "code",
   "execution_count": 23,
   "id": "6daca95f",
   "metadata": {},
   "outputs": [
    {
     "data": {
      "text/plain": [
       "172.73575362969788"
      ]
     },
     "execution_count": 23,
     "metadata": {},
     "output_type": "execute_result"
    }
   ],
   "source": [
    "harmonic_mean(values)"
   ]
  },
  {
   "cell_type": "code",
   "execution_count": 24,
   "id": "74879456",
   "metadata": {},
   "outputs": [
    {
     "data": {
      "text/plain": [
       "167.5"
      ]
     },
     "execution_count": 24,
     "metadata": {},
     "output_type": "execute_result"
    }
   ],
   "source": [
    "median(values)"
   ]
  },
  {
   "cell_type": "code",
   "execution_count": 25,
   "id": "643e6447",
   "metadata": {},
   "outputs": [
    {
     "data": {
      "text/plain": [
       "167"
      ]
     },
     "execution_count": 25,
     "metadata": {},
     "output_type": "execute_result"
    }
   ],
   "source": [
    "median_low(values)"
   ]
  },
  {
   "cell_type": "code",
   "execution_count": 26,
   "id": "2993bf56",
   "metadata": {},
   "outputs": [
    {
     "data": {
      "text/plain": [
       "168"
      ]
     },
     "execution_count": 26,
     "metadata": {},
     "output_type": "execute_result"
    }
   ],
   "source": [
    "median_high(values)"
   ]
  },
  {
   "cell_type": "code",
   "execution_count": 28,
   "id": "860b2d86",
   "metadata": {},
   "outputs": [
    {
     "data": {
      "text/plain": [
       "167.5"
      ]
     },
     "execution_count": 28,
     "metadata": {},
     "output_type": "execute_result"
    }
   ],
   "source": [
    "median_grouped(values)"
   ]
  },
  {
   "cell_type": "code",
   "execution_count": 29,
   "id": "e5a3b55c",
   "metadata": {},
   "outputs": [
    {
     "data": {
      "text/plain": [
       "167"
      ]
     },
     "execution_count": 29,
     "metadata": {},
     "output_type": "execute_result"
    }
   ],
   "source": [
    "mode(values)"
   ]
  },
  {
   "cell_type": "code",
   "execution_count": 30,
   "id": "17d20d97",
   "metadata": {},
   "outputs": [
    {
     "data": {
      "text/plain": [
       "[167]"
      ]
     },
     "execution_count": 30,
     "metadata": {},
     "output_type": "execute_result"
    }
   ],
   "source": [
    "multimode(values)"
   ]
  },
  {
   "cell_type": "code",
   "execution_count": 31,
   "id": "e5c723e2",
   "metadata": {},
   "outputs": [
    {
     "data": {
      "text/plain": [
       "[157.75, 167.5, 190.25]"
      ]
     },
     "execution_count": 31,
     "metadata": {},
     "output_type": "execute_result"
    }
   ],
   "source": [
    "quantiles(values)"
   ]
  },
  {
   "cell_type": "code",
   "execution_count": 32,
   "id": "38a01c2f",
   "metadata": {},
   "outputs": [
    {
     "data": {
      "text/plain": [
       "15.937377450509228"
      ]
     },
     "execution_count": 32,
     "metadata": {},
     "output_type": "execute_result"
    }
   ],
   "source": [
    "pstdev(values)"
   ]
  },
  {
   "cell_type": "code",
   "execution_count": 33,
   "id": "8f74f367",
   "metadata": {},
   "outputs": [
    {
     "data": {
      "text/plain": [
       "254"
      ]
     },
     "execution_count": 33,
     "metadata": {},
     "output_type": "execute_result"
    }
   ],
   "source": [
    "pvariance(values)"
   ]
  },
  {
   "cell_type": "code",
   "execution_count": 34,
   "id": "05ac0570",
   "metadata": {},
   "outputs": [
    {
     "data": {
      "text/plain": [
       "16.401219466856727"
      ]
     },
     "execution_count": 34,
     "metadata": {},
     "output_type": "execute_result"
    }
   ],
   "source": [
    "stdev(values)"
   ]
  },
  {
   "cell_type": "code",
   "execution_count": 35,
   "id": "73feffd8",
   "metadata": {},
   "outputs": [
    {
     "data": {
      "text/plain": [
       "269"
      ]
     },
     "execution_count": 35,
     "metadata": {},
     "output_type": "execute_result"
    }
   ],
   "source": [
    "variance(values)"
   ]
  },
  {
   "cell_type": "markdown",
   "id": "8b082650",
   "metadata": {},
   "source": [
    "Wariancja (Variance):\n",
    " - Jest to miara rozproszenia danych.\n",
    " - Oblicza się jako średnią kwadratów różnic między każdym punktem danych a średnią.\n",
    " - Jest mierzona w jednostkach pierwiastka kwadratowego jednostek pierwotnych danych do kwadratu.\n",
    "\n",
    "Odchylenie standardowe (Standard Deviation):\n",
    " - Jest to pierwiastek kwadratowy z wariancji.\n",
    " - Jest mierzone w tych samych jednostkach co dane pierwotne.\n",
    " - Jest bardziej interpretowalne niż wariancja, ponieważ jest wyrażone w tych samych jednostkach co dane"
   ]
  },
  {
   "cell_type": "markdown",
   "id": "c05869b5",
   "metadata": {},
   "source": [
    "# Zadanie 3"
   ]
  },
  {
   "cell_type": "code",
   "execution_count": 37,
   "id": "072f0e37",
   "metadata": {},
   "outputs": [],
   "source": [
    "lagun_df = pd.read_csv(\"Kruk_VLagun_156.csv\")"
   ]
  },
  {
   "cell_type": "code",
   "execution_count": 39,
   "id": "7e1a8437",
   "metadata": {},
   "outputs": [
    {
     "data": {
      "text/html": [
       "<div>\n",
       "<style scoped>\n",
       "    .dataframe tbody tr th:only-of-type {\n",
       "        vertical-align: middle;\n",
       "    }\n",
       "\n",
       "    .dataframe tbody tr th {\n",
       "        vertical-align: top;\n",
       "    }\n",
       "\n",
       "    .dataframe thead th {\n",
       "        text-align: right;\n",
       "    }\n",
       "</style>\n",
       "<table border=\"1\" class=\"dataframe\">\n",
       "  <thead>\n",
       "    <tr style=\"text-align: right;\">\n",
       "      <th></th>\n",
       "      <th>PSU</th>\n",
       "      <th>O2</th>\n",
       "      <th>SecchDisc</th>\n",
       "      <th>temp.</th>\n",
       "      <th>SS</th>\n",
       "      <th>chla</th>\n",
       "      <th>SRP</th>\n",
       "      <th>DOP</th>\n",
       "      <th>PP</th>\n",
       "      <th>TP</th>\n",
       "      <th>...</th>\n",
       "      <th>DOC</th>\n",
       "      <th>TPOC</th>\n",
       "      <th>PhytoBiomassC</th>\n",
       "      <th>CyanobacteriaBiomassC</th>\n",
       "      <th>ChlorophyceaeBiomassC</th>\n",
       "      <th>DiatomsBiomassC</th>\n",
       "      <th>PicoplanktonBiomassC</th>\n",
       "      <th>Airtemperature</th>\n",
       "      <th>Windspeedinsitu</th>\n",
       "      <th>Depth</th>\n",
       "    </tr>\n",
       "  </thead>\n",
       "  <tbody>\n",
       "    <tr>\n",
       "      <th>0</th>\n",
       "      <td>3.757624</td>\n",
       "      <td>9.46</td>\n",
       "      <td>0.60</td>\n",
       "      <td>18.3</td>\n",
       "      <td>52.00</td>\n",
       "      <td>39.32</td>\n",
       "      <td>3.5</td>\n",
       "      <td>11.7</td>\n",
       "      <td>185.0</td>\n",
       "      <td>200.2</td>\n",
       "      <td>...</td>\n",
       "      <td>7.5000</td>\n",
       "      <td>8.5650</td>\n",
       "      <td>1.76</td>\n",
       "      <td>0.43</td>\n",
       "      <td>0.51</td>\n",
       "      <td>0.02</td>\n",
       "      <td>0.69</td>\n",
       "      <td>21.7</td>\n",
       "      <td>3.5</td>\n",
       "      <td>3.3</td>\n",
       "    </tr>\n",
       "    <tr>\n",
       "      <th>1</th>\n",
       "      <td>3.504707</td>\n",
       "      <td>9.89</td>\n",
       "      <td>0.60</td>\n",
       "      <td>19.1</td>\n",
       "      <td>50.00</td>\n",
       "      <td>45.87</td>\n",
       "      <td>4.4</td>\n",
       "      <td>17.5</td>\n",
       "      <td>111.3</td>\n",
       "      <td>133.2</td>\n",
       "      <td>...</td>\n",
       "      <td>7.8600</td>\n",
       "      <td>8.5200</td>\n",
       "      <td>2.15</td>\n",
       "      <td>1.09</td>\n",
       "      <td>0.47</td>\n",
       "      <td>0.00</td>\n",
       "      <td>0.52</td>\n",
       "      <td>21.6</td>\n",
       "      <td>0.0</td>\n",
       "      <td>3.6</td>\n",
       "    </tr>\n",
       "    <tr>\n",
       "      <th>2</th>\n",
       "      <td>3.757624</td>\n",
       "      <td>9.66</td>\n",
       "      <td>0.50</td>\n",
       "      <td>18.1</td>\n",
       "      <td>59.00</td>\n",
       "      <td>19.66</td>\n",
       "      <td>3.2</td>\n",
       "      <td>22.8</td>\n",
       "      <td>103.4</td>\n",
       "      <td>129.4</td>\n",
       "      <td>...</td>\n",
       "      <td>8.1720</td>\n",
       "      <td>8.4915</td>\n",
       "      <td>2.60</td>\n",
       "      <td>1.73</td>\n",
       "      <td>0.27</td>\n",
       "      <td>0.02</td>\n",
       "      <td>0.54</td>\n",
       "      <td>24.9</td>\n",
       "      <td>1.0</td>\n",
       "      <td>3.4</td>\n",
       "    </tr>\n",
       "    <tr>\n",
       "      <th>3</th>\n",
       "      <td>3.107266</td>\n",
       "      <td>10.36</td>\n",
       "      <td>0.50</td>\n",
       "      <td>19.5</td>\n",
       "      <td>46.00</td>\n",
       "      <td>16.38</td>\n",
       "      <td>4.3</td>\n",
       "      <td>22.3</td>\n",
       "      <td>92.7</td>\n",
       "      <td>119.3</td>\n",
       "      <td>...</td>\n",
       "      <td>7.8480</td>\n",
       "      <td>8.8320</td>\n",
       "      <td>2.06</td>\n",
       "      <td>0.81</td>\n",
       "      <td>0.46</td>\n",
       "      <td>0.12</td>\n",
       "      <td>0.66</td>\n",
       "      <td>25.1</td>\n",
       "      <td>0.0</td>\n",
       "      <td>2.9</td>\n",
       "    </tr>\n",
       "    <tr>\n",
       "      <th>4</th>\n",
       "      <td>2.619498</td>\n",
       "      <td>11.56</td>\n",
       "      <td>0.45</td>\n",
       "      <td>19.0</td>\n",
       "      <td>42.00</td>\n",
       "      <td>9.83</td>\n",
       "      <td>11.7</td>\n",
       "      <td>30.3</td>\n",
       "      <td>73.2</td>\n",
       "      <td>115.2</td>\n",
       "      <td>...</td>\n",
       "      <td>7.5360</td>\n",
       "      <td>9.2400</td>\n",
       "      <td>2.08</td>\n",
       "      <td>1.13</td>\n",
       "      <td>0.33</td>\n",
       "      <td>0.08</td>\n",
       "      <td>0.18</td>\n",
       "      <td>22.5</td>\n",
       "      <td>0.0</td>\n",
       "      <td>3.0</td>\n",
       "    </tr>\n",
       "    <tr>\n",
       "      <th>...</th>\n",
       "      <td>...</td>\n",
       "      <td>...</td>\n",
       "      <td>...</td>\n",
       "      <td>...</td>\n",
       "      <td>...</td>\n",
       "      <td>...</td>\n",
       "      <td>...</td>\n",
       "      <td>...</td>\n",
       "      <td>...</td>\n",
       "      <td>...</td>\n",
       "      <td>...</td>\n",
       "      <td>...</td>\n",
       "      <td>...</td>\n",
       "      <td>...</td>\n",
       "      <td>...</td>\n",
       "      <td>...</td>\n",
       "      <td>...</td>\n",
       "      <td>...</td>\n",
       "      <td>...</td>\n",
       "      <td>...</td>\n",
       "      <td>...</td>\n",
       "    </tr>\n",
       "    <tr>\n",
       "      <th>151</th>\n",
       "      <td>4.500000</td>\n",
       "      <td>9.93</td>\n",
       "      <td>0.25</td>\n",
       "      <td>16.3</td>\n",
       "      <td>117.50</td>\n",
       "      <td>36.86</td>\n",
       "      <td>23.9</td>\n",
       "      <td>30.3</td>\n",
       "      <td>191.5</td>\n",
       "      <td>245.7</td>\n",
       "      <td>...</td>\n",
       "      <td>7.0180</td>\n",
       "      <td>13.0645</td>\n",
       "      <td>2.46</td>\n",
       "      <td>0.90</td>\n",
       "      <td>0.38</td>\n",
       "      <td>0.15</td>\n",
       "      <td>0.84</td>\n",
       "      <td>14.0</td>\n",
       "      <td>8.5</td>\n",
       "      <td>3.2</td>\n",
       "    </tr>\n",
       "    <tr>\n",
       "      <th>152</th>\n",
       "      <td>4.600000</td>\n",
       "      <td>10.02</td>\n",
       "      <td>0.25</td>\n",
       "      <td>16.2</td>\n",
       "      <td>115.00</td>\n",
       "      <td>40.96</td>\n",
       "      <td>31.4</td>\n",
       "      <td>32.4</td>\n",
       "      <td>37.8</td>\n",
       "      <td>101.6</td>\n",
       "      <td>...</td>\n",
       "      <td>7.0905</td>\n",
       "      <td>11.4115</td>\n",
       "      <td>2.24</td>\n",
       "      <td>0.97</td>\n",
       "      <td>0.25</td>\n",
       "      <td>0.12</td>\n",
       "      <td>0.85</td>\n",
       "      <td>14.0</td>\n",
       "      <td>10.2</td>\n",
       "      <td>3.3</td>\n",
       "    </tr>\n",
       "    <tr>\n",
       "      <th>153</th>\n",
       "      <td>4.500000</td>\n",
       "      <td>9.93</td>\n",
       "      <td>0.27</td>\n",
       "      <td>16.3</td>\n",
       "      <td>113.75</td>\n",
       "      <td>40.96</td>\n",
       "      <td>7.1</td>\n",
       "      <td>20.6</td>\n",
       "      <td>223.2</td>\n",
       "      <td>250.9</td>\n",
       "      <td>...</td>\n",
       "      <td>7.0615</td>\n",
       "      <td>11.7595</td>\n",
       "      <td>1.58</td>\n",
       "      <td>0.68</td>\n",
       "      <td>0.13</td>\n",
       "      <td>0.16</td>\n",
       "      <td>0.53</td>\n",
       "      <td>18.0</td>\n",
       "      <td>9.5</td>\n",
       "      <td>3.4</td>\n",
       "    </tr>\n",
       "    <tr>\n",
       "      <th>154</th>\n",
       "      <td>4.200000</td>\n",
       "      <td>10.30</td>\n",
       "      <td>0.27</td>\n",
       "      <td>16.0</td>\n",
       "      <td>102.50</td>\n",
       "      <td>49.15</td>\n",
       "      <td>19.5</td>\n",
       "      <td>58.8</td>\n",
       "      <td>97.1</td>\n",
       "      <td>175.4</td>\n",
       "      <td>...</td>\n",
       "      <td>7.1050</td>\n",
       "      <td>12.4410</td>\n",
       "      <td>2.02</td>\n",
       "      <td>0.81</td>\n",
       "      <td>0.14</td>\n",
       "      <td>0.14</td>\n",
       "      <td>0.87</td>\n",
       "      <td>14.0</td>\n",
       "      <td>10.5</td>\n",
       "      <td>3.3</td>\n",
       "    </tr>\n",
       "    <tr>\n",
       "      <th>155</th>\n",
       "      <td>4.100000</td>\n",
       "      <td>10.10</td>\n",
       "      <td>0.25</td>\n",
       "      <td>16.0</td>\n",
       "      <td>120.00</td>\n",
       "      <td>61.43</td>\n",
       "      <td>14.9</td>\n",
       "      <td>9.0</td>\n",
       "      <td>235.6</td>\n",
       "      <td>259.5</td>\n",
       "      <td>...</td>\n",
       "      <td>7.2065</td>\n",
       "      <td>13.0500</td>\n",
       "      <td>3.09</td>\n",
       "      <td>1.07</td>\n",
       "      <td>0.37</td>\n",
       "      <td>0.26</td>\n",
       "      <td>1.15</td>\n",
       "      <td>14.0</td>\n",
       "      <td>11.5</td>\n",
       "      <td>2.2</td>\n",
       "    </tr>\n",
       "  </tbody>\n",
       "</table>\n",
       "<p>156 rows × 30 columns</p>\n",
       "</div>"
      ],
      "text/plain": [
       "          PSU     O2  SecchDisc  temp.      SS   chla   SRP   DOP     PP  \\\n",
       "0    3.757624   9.46       0.60   18.3   52.00  39.32   3.5  11.7  185.0   \n",
       "1    3.504707   9.89       0.60   19.1   50.00  45.87   4.4  17.5  111.3   \n",
       "2    3.757624   9.66       0.50   18.1   59.00  19.66   3.2  22.8  103.4   \n",
       "3    3.107266  10.36       0.50   19.5   46.00  16.38   4.3  22.3   92.7   \n",
       "4    2.619498  11.56       0.45   19.0   42.00   9.83  11.7  30.3   73.2   \n",
       "..        ...    ...        ...    ...     ...    ...   ...   ...    ...   \n",
       "151  4.500000   9.93       0.25   16.3  117.50  36.86  23.9  30.3  191.5   \n",
       "152  4.600000  10.02       0.25   16.2  115.00  40.96  31.4  32.4   37.8   \n",
       "153  4.500000   9.93       0.27   16.3  113.75  40.96   7.1  20.6  223.2   \n",
       "154  4.200000  10.30       0.27   16.0  102.50  49.15  19.5  58.8   97.1   \n",
       "155  4.100000  10.10       0.25   16.0  120.00  61.43  14.9   9.0  235.6   \n",
       "\n",
       "        TP  ...     DOC     TPOC  PhytoBiomassC  CyanobacteriaBiomassC  \\\n",
       "0    200.2  ...  7.5000   8.5650           1.76                   0.43   \n",
       "1    133.2  ...  7.8600   8.5200           2.15                   1.09   \n",
       "2    129.4  ...  8.1720   8.4915           2.60                   1.73   \n",
       "3    119.3  ...  7.8480   8.8320           2.06                   0.81   \n",
       "4    115.2  ...  7.5360   9.2400           2.08                   1.13   \n",
       "..     ...  ...     ...      ...            ...                    ...   \n",
       "151  245.7  ...  7.0180  13.0645           2.46                   0.90   \n",
       "152  101.6  ...  7.0905  11.4115           2.24                   0.97   \n",
       "153  250.9  ...  7.0615  11.7595           1.58                   0.68   \n",
       "154  175.4  ...  7.1050  12.4410           2.02                   0.81   \n",
       "155  259.5  ...  7.2065  13.0500           3.09                   1.07   \n",
       "\n",
       "     ChlorophyceaeBiomassC  DiatomsBiomassC  PicoplanktonBiomassC  \\\n",
       "0                     0.51             0.02                  0.69   \n",
       "1                     0.47             0.00                  0.52   \n",
       "2                     0.27             0.02                  0.54   \n",
       "3                     0.46             0.12                  0.66   \n",
       "4                     0.33             0.08                  0.18   \n",
       "..                     ...              ...                   ...   \n",
       "151                   0.38             0.15                  0.84   \n",
       "152                   0.25             0.12                  0.85   \n",
       "153                   0.13             0.16                  0.53   \n",
       "154                   0.14             0.14                  0.87   \n",
       "155                   0.37             0.26                  1.15   \n",
       "\n",
       "     Airtemperature  Windspeedinsitu  Depth  \n",
       "0              21.7              3.5    3.3  \n",
       "1              21.6              0.0    3.6  \n",
       "2              24.9              1.0    3.4  \n",
       "3              25.1              0.0    2.9  \n",
       "4              22.5              0.0    3.0  \n",
       "..              ...              ...    ...  \n",
       "151            14.0              8.5    3.2  \n",
       "152            14.0             10.2    3.3  \n",
       "153            18.0              9.5    3.4  \n",
       "154            14.0             10.5    3.3  \n",
       "155            14.0             11.5    2.2  \n",
       "\n",
       "[156 rows x 30 columns]"
      ]
     },
     "execution_count": 39,
     "metadata": {},
     "output_type": "execute_result"
    }
   ],
   "source": [
    "lagun_df"
   ]
  },
  {
   "cell_type": "code",
   "execution_count": 43,
   "id": "c5b1abce",
   "metadata": {},
   "outputs": [
    {
     "data": {
      "text/plain": [
       "DescribeResult(nobs=156, minmax=(7.62, 12.89), mean=10.180705128205128, variance=1.163171757650951, skewness=0.5911982930025286, kurtosis=-0.15357564129283396)"
      ]
     },
     "execution_count": 43,
     "metadata": {},
     "output_type": "execute_result"
    }
   ],
   "source": [
    "describe(lagun_df.O2)"
   ]
  },
  {
   "cell_type": "markdown",
   "id": "b69056e1",
   "metadata": {},
   "source": [
    "https://docs.scipy.org/doc/scipy/reference/stats.html"
   ]
  },
  {
   "cell_type": "markdown",
   "id": "1e287190",
   "metadata": {},
   "source": [
    "# Zadanie 4"
   ]
  },
  {
   "cell_type": "code",
   "execution_count": 49,
   "id": "9bb37ba0",
   "metadata": {},
   "outputs": [],
   "source": [
    "brain_df = pd.read_csv('brain_size.csv', delimiter=\";\")"
   ]
  },
  {
   "cell_type": "code",
   "execution_count": 51,
   "id": "97acc717",
   "metadata": {},
   "outputs": [
    {
     "data": {
      "text/plain": [
       "112.35"
      ]
     },
     "execution_count": 51,
     "metadata": {},
     "output_type": "execute_result"
    }
   ],
   "source": [
    "brain_df['VIQ'].mean()"
   ]
  },
  {
   "cell_type": "code",
   "execution_count": 53,
   "id": "482a39cd",
   "metadata": {},
   "outputs": [
    {
     "data": {
      "text/plain": [
       "20"
      ]
     },
     "execution_count": 53,
     "metadata": {},
     "output_type": "execute_result"
    }
   ],
   "source": [
    "liczba_kobiet = brain_df[brain_df['Gender'] == 'Female'].shape[0]\n",
    "liczba_kobiet"
   ]
  },
  {
   "cell_type": "code",
   "execution_count": 54,
   "id": "ce985b4e",
   "metadata": {},
   "outputs": [
    {
     "data": {
      "text/plain": [
       "20"
      ]
     },
     "execution_count": 54,
     "metadata": {},
     "output_type": "execute_result"
    }
   ],
   "source": [
    "liczba_mezczyzn = brain_df[brain_df['Gender'] == 'Male'].shape[0]\n",
    "liczba_mezczyzn"
   ]
  },
  {
   "cell_type": "code",
   "execution_count": 55,
   "id": "7d0ddc6a",
   "metadata": {},
   "outputs": [
    {
     "data": {
      "text/plain": [
       "array([[<Axes: title={'center': 'VIQ'}>, <Axes: title={'center': 'PIQ'}>],\n",
       "       [<Axes: title={'center': 'FSIQ'}>, <Axes: >]], dtype=object)"
      ]
     },
     "execution_count": 55,
     "metadata": {},
     "output_type": "execute_result"
    },
    {
     "data": {
      "image/png": "[encoded data removed]",
      "text/plain": [
       "<Figure size 640x480 with 4 Axes>"
      ]
     },
     "metadata": {},
     "output_type": "display_data"
    }
   ],
   "source": [
    "brain_df[['VIQ', 'PIQ', 'FSIQ']].hist()"
   ]
  },
  {
   "cell_type": "code",
   "execution_count": 56,
   "id": "43745bc4",
   "metadata": {},
   "outputs": [
    {
     "data": {
      "text/plain": [
       "array([[<Axes: title={'center': 'VIQ'}>, <Axes: title={'center': 'PIQ'}>],\n",
       "       [<Axes: title={'center': 'FSIQ'}>, <Axes: >]], dtype=object)"
      ]
     },
     "execution_count": 56,
     "metadata": {},
     "output_type": "execute_result"
    },
    {
     "data": {
      "image/png": "[encoded data removed]",
      "text/plain": [
       "<Figure size 640x480 with 4 Axes>"
      ]
     },
     "metadata": {},
     "output_type": "display_data"
    }
   ],
   "source": [
    "brain_df[brain_df['Gender'] == 'Female'][['VIQ', 'PIQ', 'FSIQ']].hist()"
   ]
  }
 ],
 "metadata": {
  "kernelspec": {
   "display_name": "Python 3 (ipykernel)",
   "language": "python",
   "name": "python3"
  },
  "language_info": {
   "codemirror_mode": {
    "name": "ipython",
    "version": 3
   },
   "file_extension": ".py",
   "mimetype": "text/x-python",
   "name": "python",
   "nbconvert_exporter": "python",
   "pygments_lexer": "ipython3",
   "version": "3.10.10"
  }
 },
 "nbformat": 4,
 "nbformat_minor": 5
}
